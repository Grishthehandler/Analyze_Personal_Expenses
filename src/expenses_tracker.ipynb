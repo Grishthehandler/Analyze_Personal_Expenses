{
 "cells": [
  {
   "cell_type": "code",
   "execution_count": 1,
   "metadata": {},
   "outputs": [],
   "source": [
    "# loading module \n",
    "\n",
    "import pandas as pd\n",
    "\n",
    "import numpy as np\n",
    "\n",
    "from faker import Faker\n",
    "\n",
    "import random\n",
    "\n",
    "import mysql.connector\n",
    "\n",
    "from getpass import getpass # helps to securly transfer password\n",
    "\n",
    "import streamlit as st\n",
    "\n",
    "from datetime import datetime\n",
    "\n",
    "from mysql.connector import connect,Error\n",
    "\n",
    "import mysql.connector as mysql"
   ]
  },
  {
   "cell_type": "code",
   "execution_count": 4,
   "metadata": {},
   "outputs": [
    {
     "name": "stdout",
     "output_type": "stream",
     "text": [
      "<mysql.connector.connection_cext.CMySQLConnection object at 0x00000213EA453ED0>\n"
     ]
    }
   ],
   "source": [
    "try:\n",
    "    with connect(\n",
    "        host = \"localhost\",\n",
    "        user = input(\"Enter username\"),         # root\n",
    "        password = getpass(\"Enter password: \"), # get the encrypted password\n",
    "    ) as connection:\n",
    "        print(connection)\n",
    "except Error as e:\n",
    "    print(e)"
   ]
  },
  {
   "cell_type": "code",
   "execution_count": 6,
   "metadata": {},
   "outputs": [],
   "source": [
    "connection.reconnect()"
   ]
  },
  {
   "cell_type": "code",
   "execution_count": 7,
   "metadata": {},
   "outputs": [
    {
     "name": "stdout",
     "output_type": "stream",
     "text": [
      "('information_schema',)\n",
      "('mysql',)\n",
      "('online_movie_rating',)\n",
      "('performance_schema',)\n",
      "('sailors',)\n",
      "('sakila',)\n",
      "('sample_database',)\n",
      "('sys',)\n",
      "('world',)\n"
     ]
    }
   ],
   "source": [
    "show_db_query = \"SHOW DATABASES\" # We pass sql queries as string.\n",
    "\n",
    "\n",
    "# cursor is a pointer to a current position in a database\n",
    "\n",
    "with connection.cursor() as cursor:\n",
    "    cursor.execute(show_db_query)\n",
    "    for expenses in cursor:\n",
    "        print(expenses)"
   ]
  },
  {
   "cell_type": "code",
   "execution_count": 13,
   "metadata": {},
   "outputs": [
    {
     "ename": "ParseError",
     "evalue": "Can't parse date string `2023-1-01`",
     "output_type": "error",
     "traceback": [
      "\u001b[1;31m---------------------------------------------------------------------------\u001b[0m",
      "\u001b[1;31mParseError\u001b[0m                                Traceback (most recent call last)",
      "Cell \u001b[1;32mIn[13], line 30\u001b[0m\n\u001b[0;32m     28\u001b[0m \u001b[38;5;66;03m# Generate data for 12 months\u001b[39;00m\n\u001b[0;32m     29\u001b[0m \u001b[38;5;28;01mfor\u001b[39;00m month \u001b[38;5;129;01min\u001b[39;00m \u001b[38;5;28mrange\u001b[39m(\u001b[38;5;241m1\u001b[39m, \u001b[38;5;241m13\u001b[39m):\n\u001b[1;32m---> 30\u001b[0m     monthly_expenses \u001b[38;5;241m=\u001b[39m generate_monthly_expenses(month, \u001b[38;5;241m2023\u001b[39m)\n\u001b[0;32m     31\u001b[0m     df \u001b[38;5;241m=\u001b[39m pd\u001b[38;5;241m.\u001b[39mDataFrame(monthly_expenses)\n\u001b[0;32m     32\u001b[0m     df\u001b[38;5;241m.\u001b[39mto_csv(\u001b[38;5;124mf\u001b[39m\u001b[38;5;124m'\u001b[39m\u001b[38;5;124mmonthly_expenses/expenses_\u001b[39m\u001b[38;5;132;01m{\u001b[39;00mmonth\u001b[38;5;132;01m:\u001b[39;00m\u001b[38;5;124m02d\u001b[39m\u001b[38;5;132;01m}\u001b[39;00m\u001b[38;5;124m.csv\u001b[39m\u001b[38;5;124m'\u001b[39m, index\u001b[38;5;241m=\u001b[39m\u001b[38;5;28;01mFalse\u001b[39;00m)\n",
      "Cell \u001b[1;32mIn[13], line 14\u001b[0m, in \u001b[0;36mgenerate_monthly_expenses\u001b[1;34m(month, year, num_records)\u001b[0m\n\u001b[0;32m     11\u001b[0m expenses \u001b[38;5;241m=\u001b[39m []\n\u001b[0;32m     12\u001b[0m \u001b[38;5;28;01mfor\u001b[39;00m _ \u001b[38;5;129;01min\u001b[39;00m \u001b[38;5;28mrange\u001b[39m(num_records):\n\u001b[0;32m     13\u001b[0m     expense \u001b[38;5;241m=\u001b[39m {\n\u001b[1;32m---> 14\u001b[0m         \u001b[38;5;124m'\u001b[39m\u001b[38;5;124mdate\u001b[39m\u001b[38;5;124m'\u001b[39m: fake\u001b[38;5;241m.\u001b[39mdate_between(start_date\u001b[38;5;241m=\u001b[39m\u001b[38;5;124mf\u001b[39m\u001b[38;5;124m'\u001b[39m\u001b[38;5;132;01m{\u001b[39;00myear\u001b[38;5;132;01m}\u001b[39;00m\u001b[38;5;124m-\u001b[39m\u001b[38;5;132;01m{\u001b[39;00mmonth\u001b[38;5;132;01m}\u001b[39;00m\u001b[38;5;124m-01\u001b[39m\u001b[38;5;124m'\u001b[39m, end_date\u001b[38;5;241m=\u001b[39m\u001b[38;5;124mf\u001b[39m\u001b[38;5;124m'\u001b[39m\u001b[38;5;132;01m{\u001b[39;00myear\u001b[38;5;132;01m}\u001b[39;00m\u001b[38;5;124m-\u001b[39m\u001b[38;5;132;01m{\u001b[39;00mmonth\u001b[38;5;132;01m}\u001b[39;00m\u001b[38;5;124m-28\u001b[39m\u001b[38;5;124m'\u001b[39m),  \u001b[38;5;66;03m# Adjust for month length\u001b[39;00m\n\u001b[0;32m     15\u001b[0m         \u001b[38;5;124m'\u001b[39m\u001b[38;5;124mcategory\u001b[39m\u001b[38;5;124m'\u001b[39m: random\u001b[38;5;241m.\u001b[39mchoice([\u001b[38;5;124m'\u001b[39m\u001b[38;5;124mFood\u001b[39m\u001b[38;5;124m'\u001b[39m, \u001b[38;5;124m'\u001b[39m\u001b[38;5;124mTransport\u001b[39m\u001b[38;5;124m'\u001b[39m, \u001b[38;5;124m'\u001b[39m\u001b[38;5;124mUtilities\u001b[39m\u001b[38;5;124m'\u001b[39m, \u001b[38;5;124m'\u001b[39m\u001b[38;5;124mEntertainment\u001b[39m\u001b[38;5;124m'\u001b[39m, \u001b[38;5;124m'\u001b[39m\u001b[38;5;124mHealthcare\u001b[39m\u001b[38;5;124m'\u001b[39m]),\n\u001b[0;32m     16\u001b[0m         \u001b[38;5;124m'\u001b[39m\u001b[38;5;124mpayment_mode\u001b[39m\u001b[38;5;124m'\u001b[39m: random\u001b[38;5;241m.\u001b[39mchoice([\u001b[38;5;124m'\u001b[39m\u001b[38;5;124mCash\u001b[39m\u001b[38;5;124m'\u001b[39m, \u001b[38;5;124m'\u001b[39m\u001b[38;5;124mupi\u001b[39m\u001b[38;5;124m'\u001b[39m, \u001b[38;5;124m'\u001b[39m\u001b[38;5;124mdebit card\u001b[39m\u001b[38;5;124m'\u001b[39m,\u001b[38;5;124m'\u001b[39m\u001b[38;5;124mcredit card\u001b[39m\u001b[38;5;124m'\u001b[39m]),\n\u001b[0;32m     17\u001b[0m         \u001b[38;5;124m'\u001b[39m\u001b[38;5;124mdescription\u001b[39m\u001b[38;5;124m'\u001b[39m: random\u001b[38;5;241m.\u001b[39mchoice(),\n\u001b[0;32m     18\u001b[0m         \u001b[38;5;124m'\u001b[39m\u001b[38;5;124mamount\u001b[39m\u001b[38;5;124m'\u001b[39m: \u001b[38;5;28mround\u001b[39m(random\u001b[38;5;241m.\u001b[39muniform(\u001b[38;5;241m5\u001b[39m, \u001b[38;5;241m10000\u001b[39m), \u001b[38;5;241m2\u001b[39m),\n\u001b[0;32m     19\u001b[0m         \u001b[38;5;124m'\u001b[39m\u001b[38;5;124mcashback\u001b[39m\u001b[38;5;124m'\u001b[39m: random\u001b[38;5;241m.\u001b[39muniform(\u001b[38;5;241m5\u001b[39m,\u001b[38;5;241m500\u001b[39m)\n\u001b[0;32m     20\u001b[0m         \n\u001b[0;32m     21\u001b[0m     }\n\u001b[0;32m     22\u001b[0m     expenses\u001b[38;5;241m.\u001b[39mappend(expense)\n\u001b[0;32m     23\u001b[0m \u001b[38;5;28;01mreturn\u001b[39;00m expenses\n",
      "File \u001b[1;32mc:\\personal_expenses\\venv\\Lib\\site-packages\\faker\\providers\\date_time\\__init__.py:2071\u001b[0m, in \u001b[0;36mProvider.date_between\u001b[1;34m(self, start_date, end_date)\u001b[0m\n\u001b[0;32m   2060\u001b[0m \u001b[38;5;28;01mdef\u001b[39;00m \u001b[38;5;21mdate_between\u001b[39m(\u001b[38;5;28mself\u001b[39m, start_date: DateParseType \u001b[38;5;241m=\u001b[39m \u001b[38;5;124m\"\u001b[39m\u001b[38;5;124m-30y\u001b[39m\u001b[38;5;124m\"\u001b[39m, end_date: DateParseType \u001b[38;5;241m=\u001b[39m \u001b[38;5;124m\"\u001b[39m\u001b[38;5;124mtoday\u001b[39m\u001b[38;5;124m\"\u001b[39m) \u001b[38;5;241m-\u001b[39m\u001b[38;5;241m>\u001b[39m dtdate:\n\u001b[0;32m   2061\u001b[0m \u001b[38;5;250m    \u001b[39m\u001b[38;5;124;03m\"\"\"\u001b[39;00m\n\u001b[0;32m   2062\u001b[0m \u001b[38;5;124;03m    Get a Date object based on a random date between two given dates.\u001b[39;00m\n\u001b[0;32m   2063\u001b[0m \u001b[38;5;124;03m    Accepts date strings that can be recognized by strtotime().\u001b[39;00m\n\u001b[1;32m   (...)\u001b[0m\n\u001b[0;32m   2068\u001b[0m \u001b[38;5;124;03m    :return: Date\u001b[39;00m\n\u001b[0;32m   2069\u001b[0m \u001b[38;5;124;03m    \"\"\"\u001b[39;00m\n\u001b[1;32m-> 2071\u001b[0m     start_date \u001b[38;5;241m=\u001b[39m \u001b[38;5;28mself\u001b[39m\u001b[38;5;241m.\u001b[39m_parse_date(start_date)\n\u001b[0;32m   2072\u001b[0m     end_date \u001b[38;5;241m=\u001b[39m \u001b[38;5;28mself\u001b[39m\u001b[38;5;241m.\u001b[39m_parse_date(end_date)\n\u001b[0;32m   2073\u001b[0m     \u001b[38;5;28;01mreturn\u001b[39;00m \u001b[38;5;28mself\u001b[39m\u001b[38;5;241m.\u001b[39mdate_between_dates(date_start\u001b[38;5;241m=\u001b[39mstart_date, date_end\u001b[38;5;241m=\u001b[39mend_date)\n",
      "File \u001b[1;32mc:\\personal_expenses\\venv\\Lib\\site-packages\\faker\\providers\\date_time\\__init__.py:2027\u001b[0m, in \u001b[0;36mProvider._parse_date\u001b[1;34m(cls, value)\u001b[0m\n\u001b[0;32m   2025\u001b[0m     \u001b[38;5;28;01mif\u001b[39;00m value \u001b[38;5;129;01min\u001b[39;00m (\u001b[38;5;124m\"\u001b[39m\u001b[38;5;124mtoday\u001b[39m\u001b[38;5;124m\"\u001b[39m, \u001b[38;5;124m\"\u001b[39m\u001b[38;5;124mnow\u001b[39m\u001b[38;5;124m\"\u001b[39m):\n\u001b[0;32m   2026\u001b[0m         \u001b[38;5;28;01mreturn\u001b[39;00m today\n\u001b[1;32m-> 2027\u001b[0m     time_params \u001b[38;5;241m=\u001b[39m \u001b[38;5;28mcls\u001b[39m\u001b[38;5;241m.\u001b[39m_parse_date_string(value)\n\u001b[0;32m   2028\u001b[0m     \u001b[38;5;28;01mreturn\u001b[39;00m today \u001b[38;5;241m+\u001b[39m timedelta(\u001b[38;5;241m*\u001b[39m\u001b[38;5;241m*\u001b[39mtime_params)  \u001b[38;5;66;03m# type: ignore\u001b[39;00m\n\u001b[0;32m   2029\u001b[0m \u001b[38;5;28;01mif\u001b[39;00m \u001b[38;5;28misinstance\u001b[39m(value, \u001b[38;5;28mint\u001b[39m):\n",
      "File \u001b[1;32mc:\\personal_expenses\\venv\\Lib\\site-packages\\faker\\providers\\date_time\\__init__.py:1985\u001b[0m, in \u001b[0;36mProvider._parse_date_string\u001b[1;34m(cls, value)\u001b[0m\n\u001b[0;32m   1982\u001b[0m     time_params[\u001b[38;5;124m\"\u001b[39m\u001b[38;5;124mdays\u001b[39m\u001b[38;5;124m\"\u001b[39m] \u001b[38;5;241m+\u001b[39m\u001b[38;5;241m=\u001b[39m \u001b[38;5;241m30.42\u001b[39m \u001b[38;5;241m*\u001b[39m time_params\u001b[38;5;241m.\u001b[39mpop(\u001b[38;5;124m\"\u001b[39m\u001b[38;5;124mmonths\u001b[39m\u001b[38;5;124m\"\u001b[39m)\n\u001b[0;32m   1984\u001b[0m \u001b[38;5;28;01mif\u001b[39;00m \u001b[38;5;129;01mnot\u001b[39;00m time_params:\n\u001b[1;32m-> 1985\u001b[0m     \u001b[38;5;28;01mraise\u001b[39;00m ParseError(\u001b[38;5;124mf\u001b[39m\u001b[38;5;124m\"\u001b[39m\u001b[38;5;124mCan\u001b[39m\u001b[38;5;124m'\u001b[39m\u001b[38;5;124mt parse date string `\u001b[39m\u001b[38;5;132;01m{\u001b[39;00mvalue\u001b[38;5;132;01m}\u001b[39;00m\u001b[38;5;124m`\u001b[39m\u001b[38;5;124m\"\u001b[39m)\n\u001b[0;32m   1986\u001b[0m \u001b[38;5;28;01mreturn\u001b[39;00m time_params\n",
      "\u001b[1;31mParseError\u001b[0m: Can't parse date string `2023-1-01`"
     ]
    }
   ],
   "source": [
    "import pandas as pd\n",
    "from faker import Faker\n",
    "import random\n",
    "import os\n",
    "\n",
    "# Initialize Faker\n",
    "fake = Faker()\n",
    "\n",
    "# Function to generate monthly expenses\n",
    "def generate_monthly_expenses(month, year, num_records=150):\n",
    "    expenses = []\n",
    "    descriptions = [\n",
    "        \"Grocery shopping\",\n",
    "        \"Bus ticket\",\n",
    "        \"Electricity bill\",\n",
    "        \"Movie tickets\",\n",
    "        \"Doctor's appointment\",\n",
    "        \"Dinner at restaurant\",\n",
    "        \"Online shopping\",\n",
    "        \"Fuel for car\",\n",
    "        \"Gym membership\",\n",
    "        \"Subscription service\"\n",
    "    ]\n",
    "    \n",
    "    for _ in range(num_records):\n",
    "        expense = {\n",
    "            'date': fake.date_between(start_date=f'{year}-{month}-01', end_date=f'{year}-{month}-28'),  # Adjust for month length\n",
    "            'category': random.choice(['Food', 'Transport', 'Utilities', 'Entertainment', 'Healthcare']),\n",
    "            'payment_mode': random.choice(['Cash', 'UPI', 'Debit Card', 'Credit Card']),\n",
    "            'description': random.choice(descriptions),  # Choose a random description from the list\n",
    "            'amount': round(random.uniform(5, 10000), 2),\n",
    "            'cashback': round(random.uniform(0, 500), 2)  # Cashback should also be rounded\n",
    "        }\n",
    "        expenses.append(expense)\n",
    "    return expenses\n",
    "\n",
    "# Create a directory to store CSV files\n",
    "os.makedirs('monthly_expenses', exist_ok=True)\n",
    "\n",
    "# Generate data for 12 months\n",
    "for month in range(1, 13):\n",
    "    monthly_expenses = generate_monthly_expenses(month, 2023)\n",
    "    df = pd.DataFrame(monthly_expenses)\n",
    "    df.to_csv(f'monthly_expenses/expenses_{month:02d}.csv', index=False)\n",
    "\n",
    "print(\"Monthly expense CSV files created.\")"
   ]
  }
 ],
 "metadata": {
  "kernelspec": {
   "display_name": "Python 3",
   "language": "python",
   "name": "python3"
  },
  "language_info": {
   "codemirror_mode": {
    "name": "ipython",
    "version": 3
   },
   "file_extension": ".py",
   "mimetype": "text/x-python",
   "name": "python",
   "nbconvert_exporter": "python",
   "pygments_lexer": "ipython3",
   "version": "3.11.11"
  }
 },
 "nbformat": 4,
 "nbformat_minor": 2
}
