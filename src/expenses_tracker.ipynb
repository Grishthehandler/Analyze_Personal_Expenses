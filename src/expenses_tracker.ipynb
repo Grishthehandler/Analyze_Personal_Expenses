{
 "cells": [
  {
   "cell_type": "code",
   "execution_count": 1,
   "metadata": {},
   "outputs": [],
   "source": [
    "# loading module \n",
    "\n",
    "import pandas as pd\n",
    "\n",
    "import numpy as np\n",
    "\n",
    "from faker import Faker\n",
    "\n",
    "import random\n",
    "\n",
    "import mysql.connector\n",
    "\n",
    "from getpass import getpass # helps to securly transfer password\n",
    "\n",
    "import streamlit as st\n",
    "\n",
    "from datetime import datetime\n",
    "\n",
    "from mysql.connector import connect,Error\n",
    "\n",
    "import mysql.connector as mysql"
   ]
  },
  {
   "cell_type": "code",
   "execution_count": 2,
   "metadata": {},
   "outputs": [],
   "source": [
    "\n",
    "# initialize Faker instance\n",
    "\n",
    "faker =  Faker()"
   ]
  },
  {
   "cell_type": "code",
   "execution_count": 4,
   "metadata": {},
   "outputs": [
    {
     "name": "stdout",
     "output_type": "stream",
     "text": [
      "<mysql.connector.connection_cext.CMySQLConnection object at 0x00000213EA453ED0>\n"
     ]
    }
   ],
   "source": [
    "try:\n",
    "    with connect(\n",
    "        host = \"localhost\",\n",
    "        user = input(\"Enter username\"),         # root\n",
    "        password = getpass(\"Enter password: \"), # get the encrypted password\n",
    "    ) as connection:\n",
    "        print(connection)\n",
    "except Error as e:\n",
    "    print(e)"
   ]
  },
  {
   "cell_type": "code",
   "execution_count": 6,
   "metadata": {},
   "outputs": [],
   "source": [
    "connection.reconnect()"
   ]
  },
  {
   "cell_type": "code",
   "execution_count": 7,
   "metadata": {},
   "outputs": [
    {
     "name": "stdout",
     "output_type": "stream",
     "text": [
      "('information_schema',)\n",
      "('mysql',)\n",
      "('online_movie_rating',)\n",
      "('performance_schema',)\n",
      "('sailors',)\n",
      "('sakila',)\n",
      "('sample_database',)\n",
      "('sys',)\n",
      "('world',)\n"
     ]
    }
   ],
   "source": [
    "show_db_query = \"SHOW DATABASES\" # We pass sql queries as string.\n",
    "\n",
    "\n",
    "# cursor is a pointer to a current position in a database\n",
    "\n",
    "with connection.cursor() as cursor:\n",
    "    cursor.execute(show_db_query)\n",
    "    for expenses in cursor:\n",
    "        print(expenses)"
   ]
  }
 ],
 "metadata": {
  "kernelspec": {
   "display_name": "Python 3",
   "language": "python",
   "name": "python3"
  },
  "language_info": {
   "codemirror_mode": {
    "name": "ipython",
    "version": 3
   },
   "file_extension": ".py",
   "mimetype": "text/x-python",
   "name": "python",
   "nbconvert_exporter": "python",
   "pygments_lexer": "ipython3",
   "version": "3.11.11"
  }
 },
 "nbformat": 4,
 "nbformat_minor": 2
}
